{
  "nbformat": 4,
  "nbformat_minor": 0,
  "metadata": {
    "colab": {
      "provenance": [],
      "authorship_tag": "ABX9TyNLRPnvfwzjb01EKAajnayk",
      "include_colab_link": true
    },
    "kernelspec": {
      "name": "python3",
      "display_name": "Python 3"
    },
    "language_info": {
      "name": "python"
    }
  },
  "cells": [
    {
      "cell_type": "markdown",
      "metadata": {
        "id": "view-in-github",
        "colab_type": "text"
      },
      "source": [
        "<a href=\"https://colab.research.google.com/github/sushirito/Methylmercury/blob/main/PHREEQC_PaperReplication.ipynb\" target=\"_parent\"><img src=\"https://colab.research.google.com/assets/colab-badge.svg\" alt=\"Open In Colab\"/></a>"
      ]
    },
    {
      "cell_type": "code",
      "source": [
        "!pip install phreeqpy"
      ],
      "metadata": {
        "colab": {
          "base_uri": "https://localhost:8080/"
        },
        "id": "TtmqNA4PY_uT",
        "outputId": "da252254-54f7-4009-f9c7-cb3e03c8c50e"
      },
      "execution_count": null,
      "outputs": [
        {
          "output_type": "stream",
          "name": "stdout",
          "text": [
            "Collecting phreeqpy\n",
            "  Downloading phreeqpy-0.6.0-py3-none-any.whl (60.7 MB)\n",
            "\u001b[2K     \u001b[90m━━━━━━━━━━━━━━━━━━━━━━━━━━━━━━━━━━━━━━━━\u001b[0m \u001b[32m60.7/60.7 MB\u001b[0m \u001b[31m10.6 MB/s\u001b[0m eta \u001b[36m0:00:00\u001b[0m\n",
            "\u001b[?25hInstalling collected packages: phreeqpy\n",
            "Successfully installed phreeqpy-0.6.0\n"
          ]
        }
      ]
    },
    {
      "cell_type": "code",
      "source": [
        "import urllib.request\n",
        "import phreeqpy.iphreeqc.phreeqc_dll as phreeqc_mod\n",
        "import numpy as np\n",
        "import pandas as pd\n",
        "import matplotlib.pyplot as plt\n",
        "\n",
        "# Constants and Configuration\n",
        "CAP_THICKNESS = 1.0  # meters\n",
        "NUM_CELLS = 100\n",
        "CELL_LENGTH = CAP_THICKNESS / NUM_CELLS\n",
        "POROSITY = 0.4\n",
        "DIFFUSION_COEFFICIENT = 3e-10  # m^2/s\n",
        "HYDRAULIC_CONDUCTIVITY = 1e-6  # m/s\n",
        "ADVECTIVE_FLOW_RATE = 0.1 / (365 * 24 * 3600)  # m/year converted to m/s\n",
        "SIMULATION_TIME = 50 * 365 * 24 * 3600  # 50 years in seconds\n",
        "TIME_STEP = 365 * 24 * 3600  # 1 year in seconds\n",
        "SHIFTS = SIMULATION_TIME // TIME_STEP"
      ],
      "metadata": {
        "id": "yPhpzVVbY7t6"
      },
      "execution_count": null,
      "outputs": []
    },
    {
      "cell_type": "code",
      "source": [
        "# Download the IPhreeqc Library and database\n",
        "urllib.request.urlretrieve('https://github.com/rispr/phreeqc_web/blob/main/Iphreeqc_compiled/libiphreeqc-3.7.3.so?raw=true', 'libiphreeqc.dll')\n",
        "lib = '/content/libiphreeqc.dll'\n",
        "\n",
        "import os\n",
        "\n",
        "def get_database(dbName):\n",
        "    urllib.request.urlretrieve('https://raw.githubusercontent.com/rispr/phreeqc_web/main/database/' + dbName, dbName)\n",
        "    dbase = '/content/' + dbName\n",
        "    if os.path.exists(dbase):\n",
        "        print(f\"Database file {dbase} exists.\")\n",
        "        with open(dbase, 'r') as f:\n",
        "            print(\"First 100 characters of the database file:\")\n",
        "            print(f.read(100))\n",
        "    else:\n",
        "        print(f\"Database file {dbase} does not exist.\")\n",
        "    return dbase\n",
        "\n",
        "def run_phreeqc_simulation(lib, dbase, pqc_input):\n",
        "    try:\n",
        "        phreeqc = phreeqc_mod.IPhreeqc(lib)\n",
        "        print(f\"IPhreeqc object created successfully. Library: {lib}\")\n",
        "    except Exception as e:\n",
        "        print(f\"Error creating IPhreeqc object: {str(e)}\")\n",
        "        raise\n",
        "\n",
        "    try:\n",
        "        result = phreeqc.load_database(dbase)\n",
        "        print(f\"Database loaded. Result: {result}. Database: {dbase}\")\n",
        "        print(\"Database components:\")\n",
        "        i = 0\n",
        "        while True:\n",
        "            try:\n",
        "                component = phreeqc.get_component(i)\n",
        "                print(f\"Component {i}: {component}\")\n",
        "                i += 1\n",
        "            except IndexError:\n",
        "                break\n",
        "    except Exception as e:\n",
        "        print(f\"Error loading database: {str(e)}\")\n",
        "        raise\n",
        "\n",
        "    try:\n",
        "        result = phreeqc.run_string(pqc_input)\n",
        "        print(f\"Run string result: {result}\")\n",
        "    except Exception as e:\n",
        "        print(f\"Error running simulation: {str(e)}\")\n",
        "        raise\n",
        "\n",
        "    phreeqc.set_output_file_on()\n",
        "    return phreeqc\n",
        "# Download and get the path for the database\n",
        "dbase = get_database('phreeqc.dat')\n",
        "\n",
        "# Initialize PHREEQC\n",
        "iphreeqc = phreeqc_mod.IPhreeqc(lib)\n",
        "iphreeqc.load_database(dbase)\n",
        "\n",
        "def get_phreeqc_components():\n",
        "    return lib, dbase"
      ],
      "metadata": {
        "id": "TvAy8HKKZCDb",
        "colab": {
          "base_uri": "https://localhost:8080/"
        },
        "outputId": "c301c7d8-0683-4d24-b397-d11d84524f33"
      },
      "execution_count": null,
      "outputs": [
        {
          "output_type": "stream",
          "name": "stdout",
          "text": [
            "Database file /content/phreeqc.dat exists.\n",
            "First 100 characters of the database file:\n",
            "# PHREEQC.DAT for calculating pressure dependence of reactions, with\n",
            "#   molal volumina of aqueous s\n"
          ]
        }
      ]
    },
    {
      "cell_type": "code",
      "source": [
        "def create_solution_block(solution_number, conditions):\n",
        "    return f\"\"\"\n",
        "SOLUTION {solution_number}\n",
        "    units mol/kgw\n",
        "    temp 25\n",
        "    pH {conditions['pH']}\n",
        "    pe {conditions['pe']}\n",
        "    As {conditions['As']}\n",
        "    Hg {conditions['Hg']}\n",
        "    C {conditions['C']}\n",
        "    Ca {conditions['Ca']}\n",
        "    Cl {conditions['Cl']}\n",
        "    Fe {conditions['Fe']}\n",
        "    N {conditions['N']}\n",
        "    Na {conditions['Na']}\n",
        "    S {conditions['S']}\n",
        "    Si {conditions['Si']}\n",
        "    -water 1 # kg\n",
        "\"\"\"\n",
        "\n",
        "def create_transport_block():\n",
        "    return f\"\"\"\n",
        "TRANSPORT\n",
        "    -cells                 {NUM_CELLS}\n",
        "    -lengths               {CELL_LENGTH}\n",
        "    -time_step             {TIME_STEP}\n",
        "    -shifts                {SHIFTS}\n",
        "    -diffusion_coefficient {DIFFUSION_COEFFICIENT}\n",
        "    -dispersivities        0\n",
        "    -correct_disp          true\n",
        "    -multi_d               true\n",
        "    -interlayer_d          false\n",
        "    -porosities            {POROSITY}\n",
        "    -print_frequency       1\n",
        "    -punch_frequency       1\n",
        "    -boundary_conditions   flux flux\n",
        "\"\"\"\n",
        "\n",
        "def create_kinetics_block():\n",
        "    # This is a placeholder. You need to implement the kinetic reactions from Table 4.\n",
        "    return \"\"\"\n",
        "KINETICS 1-100\n",
        "    # Add kinetic reactions here\n",
        "RATES\n",
        "    # Add rate expressions here\n",
        "\"\"\""
      ],
      "metadata": {
        "id": "D2U71vciZPki"
      },
      "execution_count": null,
      "outputs": []
    },
    {
      "cell_type": "code",
      "source": [
        "def create_phreeqc_input():\n",
        "    initial_conditions = {\n",
        "        \"pH\": 8.0, \"pe\": 12.6,\n",
        "        \"As\": 0.000126, \"Hg\": 5.01e-8, \"C\": 0.000794,\n",
        "        \"Ca\": 0.01, \"Cl\": 0.1, \"Fe\": 0.000000501,\n",
        "        \"N\": 0.00001, \"Na\": 0.1, \"S\": 0.01, \"Si\": 0.0001\n",
        "    }\n",
        "\n",
        "    lower_boundary = {\n",
        "        \"pH\": 7.0, \"pe\": -2.5,\n",
        "        \"As\": 0.000126, \"Hg\": 5.01e-8, \"C\": 0.0000316,\n",
        "        \"Ca\": 0.00025, \"Cl\": 0.001, \"Fe\": 0.00000251,\n",
        "        \"N\": 1e-8, \"Na\": 0.000501, \"S\": 0.00001, \"Si\": 0.0001\n",
        "    }\n",
        "\n",
        "    phreeqc_input = create_solution_block(0, initial_conditions)  # Upper boundary\n",
        "    phreeqc_input += create_solution_block(\"1-100\", initial_conditions)  # Initial porewater\n",
        "    phreeqc_input += create_solution_block(101, lower_boundary)  # Lower boundary\n",
        "    phreeqc_input += create_transport_block()\n",
        "    phreeqc_input += create_kinetics_block()\n",
        "    phreeqc_input += \"\"\"\n",
        "SELECTED_OUTPUT\n",
        "    -file                  cap_simulation.csv\n",
        "    -reset                 false\n",
        "    -solution              true\n",
        "    -distance              true\n",
        "    -time                  true\n",
        "    -pH                    true\n",
        "    -pe                    true\n",
        "    -alkalinity            true\n",
        "    -ionic_strength        true\n",
        "    -water                 true\n",
        "    -charge_balance        true\n",
        "    -percent_error         true\n",
        "    -totals                As Hg Fe S Si\n",
        "    -molalities            As(3) As(5) Hg(OH)2 HgS2-2 FeOH2+ Fe+2 HS- SO4-2 H4SiO4\n",
        "    -equilibrium_phases    Goethite Mackinawite Pyrite Realgar Orpiment HgS\n",
        "\"\"\"\n",
        "    return phreeqc_input"
      ],
      "metadata": {
        "id": "yFKTRHQoZR_s"
      },
      "execution_count": null,
      "outputs": []
    },
    {
      "cell_type": "code",
      "source": [
        "def run_simulation(lib, dbase):\n",
        "    phreeqc_input = create_phreeqc_input()\n",
        "    phreeqc = run_phreeqc_simulation(lib, dbase, phreeqc_input)\n",
        "    results = phreeqc.get_selected_output_array()\n",
        "    df = pd.DataFrame(results[1:], columns=results[0])\n",
        "    print(\"Columns in the results DataFrame:\", df.columns)\n",
        "    print(\"Unique time values:\", df['time'].unique())\n",
        "    print(\"Shape of results DataFrame:\", df.shape)\n",
        "    return df\n",
        "\n",
        "def plot_results(df, species):\n",
        "    plt.figure(figsize=(10, 6))\n",
        "    distance_col = 'dist_x'\n",
        "    species_col = f'{species}(mol/kgw)'\n",
        "\n",
        "    if distance_col not in df.columns or species_col not in df.columns:\n",
        "        print(f\"Error: Required columns ('{distance_col}' and/or '{species_col}') not found in the DataFrame.\")\n",
        "        print(\"Available columns:\", df.columns)\n",
        "        return\n",
        "\n",
        "    for year in [0, 10, 20, 30, 40, 50]:\n",
        "        year_data = df[df['time'] == year * 365 * 24 * 3600]\n",
        "        if not year_data.empty:\n",
        "            # Filter out zero or negative values for log scale\n",
        "            valid_data = year_data[(year_data[distance_col] > 0) & (year_data[species_col] > 0)]\n",
        "            if not valid_data.empty:\n",
        "                plt.plot(valid_data[distance_col], valid_data[species_col], label=f'Year {year}')\n",
        "            else:\n",
        "                print(f\"No valid positive data for Year {year}\")\n",
        "        else:\n",
        "            print(f\"No data for Year {year}\")\n",
        "\n",
        "    plt.xlabel('Distance (m)')\n",
        "    plt.ylabel(f'{species} concentration (mol/kgw)')\n",
        "    plt.title(f'{species} concentration profile over time - Advection scenario')\n",
        "    plt.legend()\n",
        "\n",
        "    # Only use log scale if there are positive values\n",
        "    if df[species_col].max() > 0:\n",
        "        plt.yscale('log')\n",
        "    else:\n",
        "        print(f\"Warning: No positive values for {species}, using linear scale\")\n",
        "\n",
        "    plt.show()\n",
        "\n",
        "    # Print some statistics about the data\n",
        "    print(f\"\\nStatistics for {species}:\")\n",
        "    print(df[species_col].describe())"
      ],
      "metadata": {
        "id": "vHYLUCh0dBqd"
      },
      "execution_count": null,
      "outputs": []
    },
    {
      "cell_type": "code",
      "source": [
        "def main():\n",
        "    try:\n",
        "        lib, dbase = get_phreeqc_components()\n",
        "        print(f\"PHREEQC components retrieved. Lib: {lib}, Database: {dbase}\")\n",
        "        results = run_simulation(lib, dbase)\n",
        "        print(\"First few rows of the results DataFrame:\")\n",
        "        print(results.head())\n",
        "        plot_results(results, 'As')\n",
        "        plot_results(results, 'Hg')\n",
        "    except Exception as e:\n",
        "        print(f\"An error occurred in main: {str(e)}\")\n",
        "        import traceback\n",
        "        traceback.print_exc()\n",
        "\n",
        "if __name__ == \"__main__\":\n",
        "    main()"
      ],
      "metadata": {
        "colab": {
          "base_uri": "https://localhost:8080/",
          "height": 1000
        },
        "id": "Zmp3fTNjdDzb",
        "outputId": "e60da49f-8920-44a8-d245-deb134d3951c"
      },
      "execution_count": null,
      "outputs": [
        {
          "output_type": "stream",
          "name": "stdout",
          "text": [
            "PHREEQC components retrieved. Lib: /content/libiphreeqc.dll, Database: /content/phreeqc.dat\n",
            "IPhreeqc object created successfully. Library: /content/libiphreeqc.dll\n",
            "Database loaded. Result: None. Database: /content/phreeqc.dat\n",
            "Database components:\n",
            "Run string result: None\n"
          ]
        },
        {
          "output_type": "stream",
          "name": "stderr",
          "text": [
            "WARNING:matplotlib.legend:No artists with labels found to put in legend.  Note that artists whose label start with an underscore are ignored when legend() is called with no argument.\n"
          ]
        },
        {
          "output_type": "stream",
          "name": "stdout",
          "text": [
            "Columns in the results DataFrame: Index(['soln', 'dist_x', 'time', 'pH', 'pe', 'Alk(eq/kgw)', 'mu', 'mass_H2O',\n",
            "       'charge(eq)', 'pct_err', 'As(mol/kgw)', 'Hg(mol/kgw)', 'Fe(mol/kgw)',\n",
            "       'S(mol/kgw)', 'Si(mol/kgw)', 'm_As(3)(mol/kgw)', 'm_As(5)(mol/kgw)',\n",
            "       'm_Hg(OH)2(mol/kgw)', 'm_HgS2-2(mol/kgw)', 'm_FeOH2+(mol/kgw)',\n",
            "       'm_Fe+2(mol/kgw)', 'm_HS-(mol/kgw)', 'm_SO4-2(mol/kgw)',\n",
            "       'm_H4SiO4(mol/kgw)', 'Goethite', 'd_Goethite', 'Mackinawite',\n",
            "       'd_Mackinawite', 'Pyrite', 'd_Pyrite', 'Realgar', 'd_Realgar',\n",
            "       'Orpiment', 'd_Orpiment', 'HgS', 'd_HgS'],\n",
            "      dtype='object')\n",
            "Unique time values: [-9.900000e+01  1.000000e+00  0.000000e+00  3.153600e+07  6.307200e+07\n",
            "  9.460800e+07  1.261440e+08  1.576800e+08  1.892160e+08  2.207520e+08\n",
            "  2.522880e+08  2.838240e+08  3.153600e+08  3.468960e+08  3.784320e+08\n",
            "  4.099680e+08  4.415040e+08  4.730400e+08  5.045760e+08  5.361120e+08\n",
            "  5.676480e+08  5.991840e+08  6.307200e+08  6.622560e+08  6.937920e+08\n",
            "  7.253280e+08  7.568640e+08  7.884000e+08  8.199360e+08  8.514720e+08\n",
            "  8.830080e+08  9.145440e+08  9.460800e+08  9.776160e+08  1.009152e+09\n",
            "  1.040688e+09  1.072224e+09  1.103760e+09  1.135296e+09  1.166832e+09\n",
            "  1.198368e+09  1.229904e+09  1.261440e+09  1.292976e+09  1.324512e+09\n",
            "  1.356048e+09  1.387584e+09  1.419120e+09  1.450656e+09  1.482192e+09\n",
            "  1.513728e+09  1.545264e+09  1.576800e+09]\n",
            "Shape of results DataFrame: (5206, 36)\n",
            "First few rows of the results DataFrame:\n",
            "   soln  dist_x  time   pH    pe  Alk(eq/kgw)        mu  mass_H2O  charge(eq)  \\\n",
            "0     0   -99.0 -99.0  8.0  12.6     0.000811  0.132430       1.0    -0.00082   \n",
            "1     1   -99.0 -99.0  8.0  12.6     0.000811  0.132430       1.0    -0.00082   \n",
            "2   101   -99.0 -99.0  7.0  -2.5     0.000026  0.001287       1.0    -0.00004   \n",
            "3     0   -99.0   1.0  8.0  12.6     0.000811  0.132430       1.0    -0.00082   \n",
            "4     0     0.0   0.0  8.0  12.6     0.000811  0.132430       1.0    -0.00082   \n",
            "\n",
            "    pct_err  ...  Mackinawite  d_Mackinawite  Pyrite  d_Pyrite  Realgar  \\\n",
            "0 -0.352402  ...          0.0            0.0     0.0       0.0      0.0   \n",
            "1 -0.352402  ...          0.0            0.0     0.0       0.0      0.0   \n",
            "2 -1.958342  ...          0.0            0.0     0.0       0.0      0.0   \n",
            "3 -0.352402  ...          0.0            0.0     0.0       0.0      0.0   \n",
            "4 -0.352402  ...          0.0            0.0     0.0       0.0      0.0   \n",
            "\n",
            "   d_Realgar  Orpiment  d_Orpiment  HgS  d_HgS  \n",
            "0        0.0       0.0         0.0  0.0    0.0  \n",
            "1        0.0       0.0         0.0  0.0    0.0  \n",
            "2        0.0       0.0         0.0  0.0    0.0  \n",
            "3        0.0       0.0         0.0  0.0    0.0  \n",
            "4        0.0       0.0         0.0  0.0    0.0  \n",
            "\n",
            "[5 rows x 36 columns]\n",
            "No valid positive data for Year 0\n",
            "No valid positive data for Year 10\n",
            "No data for Year 20\n",
            "No data for Year 30\n",
            "No valid positive data for Year 40\n",
            "No valid positive data for Year 50\n",
            "Warning: No positive values for As, using linear scale\n"
          ]
        },
        {
          "output_type": "display_data",
          "data": {
            "text/plain": [
              "<Figure size 1000x600 with 1 Axes>"
            ],
            "image/png": "[encoded data removed]"
          },
          "metadata": {}
        },
        {
          "output_type": "stream",
          "name": "stderr",
          "text": [
            "WARNING:matplotlib.legend:No artists with labels found to put in legend.  Note that artists whose label start with an underscore are ignored when legend() is called with no argument.\n"
          ]
        },
        {
          "output_type": "stream",
          "name": "stdout",
          "text": [
            "\n",
            "Statistics for As:\n",
            "count    5206.0\n",
            "mean        0.0\n",
            "std         0.0\n",
            "min         0.0\n",
            "25%         0.0\n",
            "50%         0.0\n",
            "75%         0.0\n",
            "max         0.0\n",
            "Name: As(mol/kgw), dtype: float64\n",
            "No valid positive data for Year 0\n",
            "No valid positive data for Year 10\n",
            "No data for Year 20\n",
            "No data for Year 30\n",
            "No valid positive data for Year 40\n",
            "No valid positive data for Year 50\n",
            "Warning: No positive values for Hg, using linear scale\n"
          ]
        },
        {
          "output_type": "display_data",
          "data": {
            "text/plain": [
              "<Figure size 1000x600 with 1 Axes>"
            ],
            "image/png": "[encoded data removed]"
          },
          "metadata": {}
        },
        {
          "output_type": "stream",
          "name": "stdout",
          "text": [
            "\n",
            "Statistics for Hg:\n",
            "count    5206.0\n",
            "mean        0.0\n",
            "std         0.0\n",
            "min         0.0\n",
            "25%         0.0\n",
            "50%         0.0\n",
            "75%         0.0\n",
            "max         0.0\n",
            "Name: Hg(mol/kgw), dtype: float64\n"
          ]
        }
      ]
    }
  ]
}